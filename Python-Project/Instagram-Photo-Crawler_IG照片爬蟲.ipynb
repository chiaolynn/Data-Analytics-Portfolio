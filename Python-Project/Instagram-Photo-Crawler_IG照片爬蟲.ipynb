{
 "cells": [
  {
   "cell_type": "markdown",
   "metadata": {},
   "source": [
    "## Instagram Photo Crawler"
   ]
  },
  {
   "cell_type": "markdown",
   "metadata": {},
   "source": [
    "## **關於**\n",
    "搜尋關鍵字，將Instagram頁面上的照片載下。"
   ]
  },
  {
   "cell_type": "markdown",
   "metadata": {},
   "source": [
    "**1.載入套件**"
   ]
  },
  {
   "cell_type": "code",
   "execution_count": null,
   "metadata": {},
   "outputs": [],
   "source": [
    "import os\n",
    "import selenium\n",
    "import wget\n",
    "import datetime\n",
    "import time \n",
    "from selenium import webdriver\n",
    "from selenium.webdriver.chrome.service import Service\n",
    "from selenium.webdriver.common.by import By\n",
    "from selenium.webdriver.support.ui import WebDriverWait\n",
    "from selenium.webdriver.support import expected_conditions as EC\n",
    "from selenium.webdriver.common.keys import Keys"
   ]
  },
  {
   "cell_type": "markdown",
   "metadata": {},
   "source": [
    "**2.設定Driver & 登入Instagram**"
   ]
  },
  {
   "cell_type": "code",
   "execution_count": null,
   "metadata": {},
   "outputs": [],
   "source": [
    "PATH = \"C:/Users/Desktop/chromedriver.exe\" #driver存取位置\n",
    "ser = Service(PATH)\n",
    "op = webdriver.ChromeOptions()\n",
    "driver = webdriver.Chrome(service=ser, options=op)\n",
    "driver.get(\"https://www.instagram.com/accounts/login/\") #Instagram登入首頁\n",
    "\n",
    "#輸入帳號\n",
    "userid = WebDriverWait(driver, 10).until(\n",
    "    EC.presence_of_element_located((By.NAME, \"username\")))\n",
    "\n",
    "userid.send_keys(\"OOOOOOO\") #帳號名稱\n",
    "\n",
    "#輸入密碼\n",
    "psswd = WebDriverWait(driver, 10).until(\n",
    "    EC.presence_of_element_located((By.NAME, \"password\")))\n",
    "\n",
    "psswd.send_keys(\"XXXXXXX\") #密碼\n",
    "\n",
    "#按下登入按鈕\n",
    "button = WebDriverWait(driver, 10).until(\n",
    "    EC.element_to_be_clickable((By.CSS_SELECTOR, \"button[type = 'submit']\"))).click()\n",
    "\n",
    "#跳出 '儲存你的登入資料？' 頁面，按Not Now(英文介面) or 稍後再說(中文介面)\n",
    "not_now = WebDriverWait(driver, 10).until(\n",
    "    EC.element_to_be_clickable((By.XPATH, \"//button[contains(text(),'Not Now') \n",
    "                                or contains(text(),'稍後再說')]\"))).click()\n",
    "\n",
    "#跳出 '開啟通知' 頁面，按Not Now(英文介面) or 稍後再說(中文介面)\n",
    "sec_not_now = WebDriverWait(driver, 10).until(\n",
    "    EC.element_to_be_clickable((By.XPATH, \"//button[contains(text(),'Not Now') \n",
    "                                or contains(text(),'稍後再說')]\"))).click()"
   ]
  },
  {
   "cell_type": "markdown",
   "metadata": {},
   "source": [
    "**3.搜尋關鍵字 & 爬取頁面照片**"
   ]
  },
  {
   "cell_type": "code",
   "execution_count": null,
   "metadata": {},
   "outputs": [],
   "source": [
    "#搜尋欄\n",
    "query = WebDriverWait(driver, 10).until(\n",
    "EC.presence_of_element_located((By.CLASS_NAME, \"XTCLo.d_djL.DljaH\")))\n",
    "\n",
    "query.clear() #清空搜尋列文字\n",
    "\n",
    "#敲入搜尋字\n",
    "keyword = \"風景\"\n",
    "query.send_keys(keyword)\n",
    "time.sleep(2)\n",
    "query.send_keys(Keys.ENTER)\n",
    "time.sleep(1)\n",
    "query.send_keys(Keys.ENTER)"
   ]
  },
  {
   "cell_type": "code",
   "execution_count": null,
   "metadata": {},
   "outputs": [],
   "source": [
    "driver.execute_script(\"window.scrollTo(0, document.body.scrollHeight);\") #捲軸爬取\n",
    "images = driver.find_elements(by=By.TAG_NAME, value = 'img')\n",
    "images = [image.get_attribute('src') for image in images] #找出圖片source code網址\n",
    "images = images[1:-2] #(1)第一張&第二張會爬到重複圖片，因此只取一張；\n",
    "                      #(2)最後一二張會是登入帳號的頭貼與IG logo，因此不放入list"
   ]
  },
  {
   "cell_type": "markdown",
   "metadata": {},
   "source": [
    "**4.新增資料夾放圖**"
   ]
  },
  {
   "cell_type": "code",
   "execution_count": null,
   "metadata": {},
   "outputs": [],
   "source": [
    "os.chdir('C:\\\\Users\\\\Desktop') #路徑設定\n",
    "path = os.getcwd()\n",
    "path = os.path.join(path, keyword[1:]) #資料夾以搜尋字詞取名，不包含tag(#)\n",
    "os.makedirs(path + datetime.datetime.now().strftime('_%Y%m%d')) #創造資料夾並標註下載日期"
   ]
  },
  {
   "cell_type": "markdown",
   "metadata": {},
   "source": [
    "**5.下載圖，存成.jpg格式**"
   ]
  },
  {
   "cell_type": "code",
   "execution_count": null,
   "metadata": {},
   "outputs": [],
   "source": [
    "counter = 0\n",
    "\n",
    "for image in images:\n",
    "    save_as = os.path.join(path + datetime.datetime.now().strftime('_%Y%m%d'), \n",
    "                           keyword[1:] + str(counter) + '.jpg') \n",
    "    wget.download(image, save_as)\n",
    "    counter +=1\n",
    "\n",
    "driver.quit() #關掉視窗"
   ]
  }
 ],
 "metadata": {
  "kernelspec": {
   "display_name": "Python 3 (ipykernel)",
   "language": "python",
   "name": "python3"
  },
  "language_info": {
   "codemirror_mode": {
    "name": "ipython",
    "version": 3
   },
   "file_extension": ".py",
   "mimetype": "text/x-python",
   "name": "python",
   "nbconvert_exporter": "python",
   "pygments_lexer": "ipython3",
   "version": "3.7.4"
  }
 },
 "nbformat": 4,
 "nbformat_minor": 2
}
